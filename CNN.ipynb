{
  "nbformat": 4,
  "nbformat_minor": 0,
  "metadata": {
    "colab": {
      "provenance": [],
      "gpuType": "T4",
      "mount_file_id": "101Vqv9jHQDgKh_Vv9zj-_PGSHdI_2LJH",
      "authorship_tag": "ABX9TyNjH4nVcG/p4xjFOIbDIfTp",
      "include_colab_link": true
    },
    "kernelspec": {
      "name": "python3",
      "display_name": "Python 3"
    },
    "language_info": {
      "name": "python"
    },
    "accelerator": "GPU"
  },
  "cells": [
    {
      "cell_type": "markdown",
      "metadata": {
        "id": "view-in-github",
        "colab_type": "text"
      },
      "source": [
        "<a href=\"https://colab.research.google.com/github/Nishanthini03/Python/blob/main/CNN.ipynb\" target=\"_parent\"><img src=\"https://colab.research.google.com/assets/colab-badge.svg\" alt=\"Open In Colab\"/></a>"
      ]
    },
    {
      "cell_type": "code",
      "execution_count": 2,
      "metadata": {
        "colab": {
          "base_uri": "https://localhost:8080/"
        },
        "id": "sPW5SxRh9TlJ",
        "outputId": "9157753a-91b1-484a-9b27-9f3709914a82"
      },
      "outputs": [
        {
          "output_type": "stream",
          "name": "stdout",
          "text": [
            "Drive already mounted at /content/drive; to attempt to forcibly remount, call drive.mount(\"/content/drive\", force_remount=True).\n"
          ]
        }
      ],
      "source": [
        "from google.colab import drive\n",
        "drive.mount('/content/drive')"
      ]
    },
    {
      "cell_type": "code",
      "source": [
        "%cd /content/drive/MyDrive/DataScience_SiyamalanSir\n",
        "%pwd\n",
        "import os\n",
        "os.listdir('.')"
      ],
      "metadata": {
        "colab": {
          "base_uri": "https://localhost:8080/"
        },
        "id": "LhVDT0jC9wk6",
        "outputId": "13095da8-d00e-40ed-ad4c-6b39962fb8f2"
      },
      "execution_count": 3,
      "outputs": [
        {
          "output_type": "stream",
          "name": "stdout",
          "text": [
            "/content/drive/MyDrive/DataScience_SiyamalanSir\n"
          ]
        },
        {
          "output_type": "execute_result",
          "data": {
            "text/plain": [
              "['Dataset',\n",
              " 'DatasetLoader.py',\n",
              " 'Net.py',\n",
              " 'CNNTrain.py',\n",
              " 'main.py',\n",
              " '__pycache__']"
            ]
          },
          "metadata": {},
          "execution_count": 3
        }
      ]
    },
    {
      "cell_type": "code",
      "source": [
        "%run DatasetLoader.py"
      ],
      "metadata": {
        "colab": {
          "base_uri": "https://localhost:8080/"
        },
        "id": "RIVReOdm-bTK",
        "outputId": "97631bc7-fddb-4ac4-f9ac-02644d6e0edb"
      },
      "execution_count": 7,
      "outputs": [
        {
          "output_type": "stream",
          "name": "stdout",
          "text": [
            "150 150\n",
            "/content/drive/MyDrive/DataScience_SiyamalanSir/Dataset/cat/0001.jpg 0\n",
            "120 30\n",
            "['/content/drive/MyDrive/DataScience_SiyamalanSir/Dataset/bird/0013.jpg', '/content/drive/MyDrive/DataScience_SiyamalanSir/Dataset/bird/0004.jpg', '/content/drive/MyDrive/DataScience_SiyamalanSir/Dataset/dog/0012.jpg', '/content/drive/MyDrive/DataScience_SiyamalanSir/Dataset/bird/0015.jpg', '/content/drive/MyDrive/DataScience_SiyamalanSir/Dataset/dog/0024.jpg', '/content/drive/MyDrive/DataScience_SiyamalanSir/Dataset/dog/0032.jpg', '/content/drive/MyDrive/DataScience_SiyamalanSir/Dataset/dog/0045.jpg', '/content/drive/MyDrive/DataScience_SiyamalanSir/Dataset/bird/0038.jpg', '/content/drive/MyDrive/DataScience_SiyamalanSir/Dataset/bird/0002.jpg', '/content/drive/MyDrive/DataScience_SiyamalanSir/Dataset/dog/0030.jpg']\n"
          ]
        }
      ]
    },
    {
      "cell_type": "code",
      "source": [
        "%run DatasetLoader.py"
      ],
      "metadata": {
        "colab": {
          "base_uri": "https://localhost:8080/"
        },
        "id": "iz2Z_PenCE0J",
        "outputId": "ad9e470e-6f6e-412c-d719-beb08358d3ec"
      },
      "execution_count": 16,
      "outputs": [
        {
          "output_type": "stream",
          "name": "stdout",
          "text": [
            "150 150\n",
            "/content/drive/MyDrive/DataScience_SiyamalanSir/Dataset/cat/0001.jpg 0\n",
            "120 30\n",
            "['/content/drive/MyDrive/DataScience_SiyamalanSir/Dataset/bird/0013.jpg', '/content/drive/MyDrive/DataScience_SiyamalanSir/Dataset/bird/0004.jpg', '/content/drive/MyDrive/DataScience_SiyamalanSir/Dataset/dog/0012.jpg', '/content/drive/MyDrive/DataScience_SiyamalanSir/Dataset/bird/0015.jpg', '/content/drive/MyDrive/DataScience_SiyamalanSir/Dataset/dog/0024.jpg', '/content/drive/MyDrive/DataScience_SiyamalanSir/Dataset/dog/0032.jpg', '/content/drive/MyDrive/DataScience_SiyamalanSir/Dataset/dog/0045.jpg', '/content/drive/MyDrive/DataScience_SiyamalanSir/Dataset/bird/0038.jpg', '/content/drive/MyDrive/DataScience_SiyamalanSir/Dataset/bird/0002.jpg', '/content/drive/MyDrive/DataScience_SiyamalanSir/Dataset/dog/0030.jpg']\n",
            "Training\n",
            "Total images :  120\n",
            "Number of images in class  0 :  40\n",
            "Number of images in class  1 :  40\n",
            "Number of images in class  2 :  40\n",
            "\n",
            "-----------------\n",
            "\n",
            "Testing\n",
            "Total images :  30\n",
            "Number of images in class  0 :  10\n",
            "Number of images in class  1 :  10\n",
            "Number of images in class  2 :  10\n",
            "\n",
            "-----------------\n",
            "\n"
          ]
        }
      ]
    },
    {
      "cell_type": "code",
      "source": [
        "%run DatasetLoader.py"
      ],
      "metadata": {
        "colab": {
          "base_uri": "https://localhost:8080/"
        },
        "id": "inhmedttJ2N4",
        "outputId": "3b2cdfde-3637-4831-eba1-f7aee194d562"
      },
      "execution_count": 18,
      "outputs": [
        {
          "output_type": "stream",
          "name": "stdout",
          "text": [
            "lbl \t Train \t Test\n",
            "0\t   40\t   10\n",
            "1\t   40\t   10\n",
            "2\t   40\t   10\n",
            "\t  120\t   30\n"
          ]
        },
        {
          "output_type": "stream",
          "name": "stderr",
          "text": [
            "/usr/local/lib/python3.11/dist-packages/torch/utils/data/dataloader.py:617: UserWarning: This DataLoader will create 8 worker processes in total. Our suggested max number of worker in current system is 2, which is smaller than what this DataLoader is going to create. Please be aware that excessive worker creation might get DataLoader running slow or even freeze, lower the worker number to avoid potential slowness/freeze if necessary.\n",
            "  warnings.warn(\n"
          ]
        }
      ]
    },
    {
      "cell_type": "code",
      "source": [
        "%run DatasetLoader.py"
      ],
      "metadata": {
        "colab": {
          "base_uri": "https://localhost:8080/"
        },
        "id": "fJchlaBMLLaQ",
        "outputId": "0e7b8282-e815-43ae-cc71-d1c25af1f3c0"
      },
      "execution_count": 19,
      "outputs": [
        {
          "output_type": "stream",
          "name": "stdout",
          "text": [
            "lbl \t Train \t Test\n",
            "0\t   40\t   10\n",
            "1\t   40\t   10\n",
            "2\t   40\t   10\n",
            "\t  120\t   30\n"
          ]
        },
        {
          "output_type": "stream",
          "name": "stderr",
          "text": [
            "/usr/local/lib/python3.11/dist-packages/torch/utils/data/dataloader.py:617: UserWarning: This DataLoader will create 8 worker processes in total. Our suggested max number of worker in current system is 2, which is smaller than what this DataLoader is going to create. Please be aware that excessive worker creation might get DataLoader running slow or even freeze, lower the worker number to avoid potential slowness/freeze if necessary.\n",
            "  warnings.warn(\n"
          ]
        },
        {
          "output_type": "stream",
          "name": "stdout",
          "text": [
            "torch.Size([32, 3, 100, 100])\n"
          ]
        }
      ]
    },
    {
      "cell_type": "code",
      "source": [
        "%run Net.py"
      ],
      "metadata": {
        "id": "pEqGcQqAWGon"
      },
      "execution_count": 4,
      "outputs": []
    },
    {
      "cell_type": "code",
      "source": [
        "%run CNNTrain.py"
      ],
      "metadata": {
        "id": "WWTVvufTYX_3"
      },
      "execution_count": 5,
      "outputs": []
    },
    {
      "cell_type": "code",
      "source": [
        "%run main.py"
      ],
      "metadata": {
        "colab": {
          "base_uri": "https://localhost:8080/",
          "height": 1000
        },
        "id": "U4QkFg3MYcoW",
        "outputId": "eccd6953-932c-4a55-8932-6e3f4ad5f8fc"
      },
      "execution_count": 6,
      "outputs": [
        {
          "output_type": "stream",
          "name": "stderr",
          "text": [
            "/usr/local/lib/python3.11/dist-packages/torch/utils/data/dataloader.py:624: UserWarning: This DataLoader will create 8 worker processes in total. Our suggested max number of worker in current system is 2, which is smaller than what this DataLoader is going to create. Please be aware that excessive worker creation might get DataLoader running slow or even freeze, lower the worker number to avoid potential slowness/freeze if necessary.\n",
            "  warnings.warn(\n"
          ]
        },
        {
          "output_type": "stream",
          "name": "stdout",
          "text": [
            "lbl \t Train \t Test\n",
            "0\t   40\t   10\n",
            "1\t   40\t   10\n",
            "2\t   40\t   10\n",
            "\t  120\t   30\n",
            "Epoch\tTrLoss\tTrAcc TeLoss\n",
            "0 4.4249  38.333%   1.0955   33.333%\n",
            "1 4.1376  49.167%   1.0957   26.667%\n",
            "2 4.0449  46.667%   1.0934   33.333%\n",
            "3 3.9993  50.833%   1.0845   40.000%\n",
            "4 3.8704  51.667%   1.0931   26.667%\n",
            "5 3.8575  54.167%   1.0782   33.333%\n",
            "6 3.7472  53.333%   1.0848   33.333%\n",
            "7 3.7970  52.500%   1.0650   40.000%\n",
            "8 3.7870  51.667%   1.0917   36.667%\n",
            "9 3.7220  55.833%   1.0874   36.667%\n",
            "10 3.7013  55.833%   1.0803   40.000%\n",
            "11 3.6709  53.333%   1.0848   40.000%\n",
            "12 3.6216  56.667%   1.0971   43.333%\n",
            "13 3.6898  55.000%   1.0911   43.333%\n",
            "14 3.5700  55.000%   1.0871   43.333%\n",
            "15 3.6943  55.000%   1.0843   43.333%\n",
            "16 3.5909  58.333%   1.0818   46.667%\n",
            "17 3.6617  54.167%   1.0795   53.333%\n",
            "18 3.5778  58.333%   1.0806   53.333%\n",
            "19 3.7051  58.333%   1.0822   50.000%\n"
          ]
        },
        {
          "output_type": "display_data",
          "data": {
            "text/plain": [
              "<Figure size 800x600 with 1 Axes>"
            ],
            "image/png": "[encoded data removed]"
          },
          "metadata": {}
        },
        {
          "output_type": "stream",
          "name": "stdout",
          "text": [
            "--- 60.077123403549194 seconds ---\n"
          ]
        },
        {
          "output_type": "display_data",
          "data": {
            "text/plain": [
              "<Figure size 640x480 with 0 Axes>"
            ]
          },
          "metadata": {}
        }
      ]
    },
    {
      "cell_type": "code",
      "source": [
        "%run main.py"
      ],
      "metadata": {
        "colab": {
          "base_uri": "https://localhost:8080/",
          "height": 1000
        },
        "id": "32vbqdKkaVEv",
        "outputId": "1007e148-8be6-4150-d490-5855f5c4eed9"
      },
      "execution_count": 7,
      "outputs": [
        {
          "output_type": "stream",
          "name": "stdout",
          "text": [
            "lbl \t Train \t Test\n",
            "0\t   40\t   10\n",
            "1\t   40\t   10\n",
            "2\t   40\t   10\n",
            "\t  120\t   30\n",
            "Epoch\tTrLoss\tTrAcc TeLoss\n"
          ]
        },
        {
          "output_type": "stream",
          "name": "stderr",
          "text": [
            "/usr/local/lib/python3.11/dist-packages/torch/utils/data/dataloader.py:624: UserWarning: This DataLoader will create 8 worker processes in total. Our suggested max number of worker in current system is 2, which is smaller than what this DataLoader is going to create. Please be aware that excessive worker creation might get DataLoader running slow or even freeze, lower the worker number to avoid potential slowness/freeze if necessary.\n",
            "  warnings.warn(\n"
          ]
        },
        {
          "output_type": "stream",
          "name": "stdout",
          "text": [
            "0 4.2968  47.500%   1.0958   30.000%\n",
            "1 4.0580  49.167%   1.0929   30.000%\n",
            "2 3.9395  54.167%   1.0914   36.667%\n",
            "3 3.8805  50.000%   1.0826   46.667%\n",
            "4 3.8350  50.000%   1.0832   46.667%\n",
            "5 3.8156  51.667%   1.0779   53.333%\n",
            "6 3.7754  51.667%   1.1036   43.333%\n",
            "7 3.8061  51.667%   1.0991   50.000%\n",
            "8 3.8205  54.167%   1.1388   36.667%\n",
            "9 3.6574  57.500%   1.1271   43.333%\n",
            "10 3.6828  51.667%   1.1508   36.667%\n",
            "11 3.7166  56.667%   1.1449   43.333%\n",
            "12 3.6983  54.167%   1.1468   43.333%\n",
            "13 3.6286  55.833%   1.1361   43.333%\n",
            "14 3.6230  58.333%   1.1367   43.333%\n",
            "15 3.6606  56.667%   1.1419   43.333%\n",
            "16 3.5567  53.333%   1.1459   43.333%\n",
            "17 3.5362  56.667%   1.1490   43.333%\n",
            "18 3.5737  59.167%   1.1504   43.333%\n",
            "19 3.6169  55.833%   1.1520   43.333%\n"
          ]
        },
        {
          "output_type": "display_data",
          "data": {
            "text/plain": [
              "<Figure size 800x600 with 1 Axes>"
            ],
            "image/png": "[encoded data removed]"
          },
          "metadata": {}
        },
        {
          "output_type": "stream",
          "name": "stdout",
          "text": [
            "--- 24.609257221221924 seconds ---\n"
          ]
        },
        {
          "output_type": "display_data",
          "data": {
            "text/plain": [
              "<Figure size 640x480 with 0 Axes>"
            ]
          },
          "metadata": {}
        }
      ]
    }
  ]
}